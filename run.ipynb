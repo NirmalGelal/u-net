{
  "cells": [
    {
      "cell_type": "code",
      "execution_count": 2,
      "metadata": {
        "colab": {
          "base_uri": "https://localhost:8080/"
        },
        "id": "gqpwdnnIEWgx",
        "outputId": "9d59945f-a119-4723-d306-2684eb1bc97d"
      },
      "outputs": [
        {
          "name": "stdout",
          "output_type": "stream",
          "text": [
            "Mounted at /content/drive\n"
          ]
        }
      ],
      "source": [
        "from google.colab import drive\n",
        "drive.mount('/content/drive')"
      ]
    },
    {
      "cell_type": "code",
      "execution_count": 1,
      "metadata": {
        "colab": {
          "base_uri": "https://localhost:8080/"
        },
        "id": "8QylIOC8Eoog",
        "outputId": "127dbdf0-9286-4309-cf20-74ce5ea9fdab"
      },
      "outputs": [
        {
          "name": "stdout",
          "output_type": "stream",
          "text": [
            "/content/drive/MyDrive/Task_Nirmal\n"
          ]
        }
      ],
      "source": [
        "cd /content/drive/MyDrive/Task_Nirmal"
      ]
    },
    {
      "cell_type": "code",
      "execution_count": 2,
      "metadata": {
        "id": "MN82AcYxOkcq"
      },
      "outputs": [],
      "source": [
        "%run shuffle_dataset.py"
      ]
    },
    {
      "cell_type": "code",
      "execution_count": 3,
      "metadata": {
        "id": "CnzvZPNth1wr"
      },
      "outputs": [],
      "source": [
        "%run train.py"
      ]
    },
    {
      "cell_type": "code",
      "execution_count": 2,
      "metadata": {
        "colab": {
          "base_uri": "https://localhost:8080/"
        },
        "id": "lGKU9m5njR2d",
        "outputId": "75ca3370-c21a-4bc0-95ec-d659da745a44"
      },
      "outputs": [
        {
          "name": "stderr",
          "output_type": "stream",
          "text": [
            "/content/drive/MyDrive/Task_Nirmal/predict.py:198: UserWarning: Creating a tensor from a list of numpy.ndarrays is extremely slow. Please consider converting the list to a single numpy.ndarray with numpy.array() before converting to a tensor. (Triggered internally at ../torch/csrc/utils/tensor_new.cpp:245.)\n",
            "  gt_tensor=torch.Tensor(gt_list)\n"
          ]
        },
        {
          "name": "stdout",
          "output_type": "stream",
          "text": [
            "IoU Value: 0.08738058743377526\n"
          ]
        }
      ],
      "source": [
        "%run predict.py -m /content/drive/MyDrive/Task_Nirmal/checkpoints/CP_epoch_5.pth -i /content/drive/MyDrive/Task_Nirmal/random_selected_data/test_data/images/* -o predictions/ -s 0.25 --viz"
      ]
    }
  ],
  "metadata": {
    "accelerator": "GPU",
    "colab": {
      "gpuType": "T4",
      "provenance": []
    },
    "kernelspec": {
      "display_name": "Python 3",
      "name": "python3"
    },
    "language_info": {
      "name": "python"
    }
  },
  "nbformat": 4,
  "nbformat_minor": 0
}
